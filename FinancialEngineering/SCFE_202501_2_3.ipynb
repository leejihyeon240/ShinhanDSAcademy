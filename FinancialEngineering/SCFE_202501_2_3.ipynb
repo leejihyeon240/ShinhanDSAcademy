{
  "nbformat": 4,
  "nbformat_minor": 0,
  "metadata": {
    "colab": {
      "provenance": [],
      "include_colab_link": true
    },
    "kernelspec": {
      "name": "python3",
      "display_name": "Python 3"
    },
    "language_info": {
      "name": "python"
    }
  },
  "cells": [
    {
      "cell_type": "markdown",
      "metadata": {
        "id": "view-in-github",
        "colab_type": "text"
      },
      "source": [
        "<a href=\"https://colab.research.google.com/github/leejihyeon240/ShinhanDSAcademy/blob/main/SCFE_202501_2_3.ipynb\" target=\"_parent\"><img src=\"https://colab.research.google.com/assets/colab-badge.svg\" alt=\"Open In Colab\"/></a>"
      ]
    },
    {
      "cell_type": "markdown",
      "source": [
        "- 자동으로 p,d, q 확인"
      ],
      "metadata": {
        "id": "qIziMZLsVuP3"
      }
    },
    {
      "cell_type": "code",
      "source": [
        "!pip install pmdarima"
      ],
      "metadata": {
        "id": "jwcTalEhyZ4L",
        "colab": {
          "base_uri": "https://localhost:8080/"
        },
        "outputId": "a7b38a4e-a831-4c63-d23a-d70700d5a15c"
      },
      "execution_count": null,
      "outputs": [
        {
          "output_type": "stream",
          "name": "stdout",
          "text": [
            "Collecting pmdarima\n",
            "  Downloading pmdarima-2.0.4-cp310-cp310-manylinux_2_17_x86_64.manylinux2014_x86_64.manylinux_2_28_x86_64.whl.metadata (7.8 kB)\n",
            "Requirement already satisfied: joblib>=0.11 in /usr/local/lib/python3.10/dist-packages (from pmdarima) (1.4.2)\n",
            "Requirement already satisfied: Cython!=0.29.18,!=0.29.31,>=0.29 in /usr/local/lib/python3.10/dist-packages (from pmdarima) (3.0.11)\n",
            "Requirement already satisfied: numpy>=1.21.2 in /usr/local/lib/python3.10/dist-packages (from pmdarima) (1.26.4)\n",
            "Requirement already satisfied: pandas>=0.19 in /usr/local/lib/python3.10/dist-packages (from pmdarima) (2.2.2)\n",
            "Requirement already satisfied: scikit-learn>=0.22 in /usr/local/lib/python3.10/dist-packages (from pmdarima) (1.5.2)\n",
            "Requirement already satisfied: scipy>=1.3.2 in /usr/local/lib/python3.10/dist-packages (from pmdarima) (1.13.1)\n",
            "Requirement already satisfied: statsmodels>=0.13.2 in /usr/local/lib/python3.10/dist-packages (from pmdarima) (0.14.4)\n",
            "Requirement already satisfied: urllib3 in /usr/local/lib/python3.10/dist-packages (from pmdarima) (2.2.3)\n",
            "Requirement already satisfied: setuptools!=50.0.0,>=38.6.0 in /usr/local/lib/python3.10/dist-packages (from pmdarima) (75.1.0)\n",
            "Requirement already satisfied: packaging>=17.1 in /usr/local/lib/python3.10/dist-packages (from pmdarima) (24.2)\n",
            "Requirement already satisfied: python-dateutil>=2.8.2 in /usr/local/lib/python3.10/dist-packages (from pandas>=0.19->pmdarima) (2.8.2)\n",
            "Requirement already satisfied: pytz>=2020.1 in /usr/local/lib/python3.10/dist-packages (from pandas>=0.19->pmdarima) (2024.2)\n",
            "Requirement already satisfied: tzdata>=2022.7 in /usr/local/lib/python3.10/dist-packages (from pandas>=0.19->pmdarima) (2024.2)\n",
            "Requirement already satisfied: threadpoolctl>=3.1.0 in /usr/local/lib/python3.10/dist-packages (from scikit-learn>=0.22->pmdarima) (3.5.0)\n",
            "Requirement already satisfied: patsy>=0.5.6 in /usr/local/lib/python3.10/dist-packages (from statsmodels>=0.13.2->pmdarima) (1.0.1)\n",
            "Requirement already satisfied: six>=1.5 in /usr/local/lib/python3.10/dist-packages (from python-dateutil>=2.8.2->pandas>=0.19->pmdarima) (1.16.0)\n",
            "Downloading pmdarima-2.0.4-cp310-cp310-manylinux_2_17_x86_64.manylinux2014_x86_64.manylinux_2_28_x86_64.whl (2.1 MB)\n",
            "\u001b[2K   \u001b[90m━━━━━━━━━━━━━━━━━━━━━━━━━━━━━━━━━━━━━━━━\u001b[0m \u001b[32m2.1/2.1 MB\u001b[0m \u001b[31m58.0 MB/s\u001b[0m eta \u001b[36m0:00:00\u001b[0m\n",
            "\u001b[?25hInstalling collected packages: pmdarima\n",
            "Successfully installed pmdarima-2.0.4\n"
          ]
        }
      ]
    },
    {
      "cell_type": "code",
      "source": [
        "#AMZN.csv의 Close 값에 대해서 ARIMA\n",
        "data = pd.read_csv(\"AMZN.csv\")\n",
        "series = data[\"Close\"]"
      ],
      "metadata": {
        "id": "gb6wxbmWtw6-"
      },
      "execution_count": null,
      "outputs": []
    },
    {
      "cell_type": "code",
      "source": [
        "# import necessary libraries\n",
        "from statsmodels.tsa.arima_model import ARIMA\n",
        "import pmdarima as pm\n",
        "\n",
        "data_actual = series\n",
        "\n",
        "# set seasonal to True\n",
        "seasonal = True\n",
        "\n",
        "# use pmdarima to automatically select best ARIMA model\n",
        "model = pm.auto_arima(data_actual,\n",
        "#                      m=12,               # frequency of series\n",
        "#                      seasonal=seasonal,  # TRUE if seasonal series\n",
        "                      d=0,             # let model determine 'd'\n",
        "                      test='adf',         # use adftest to find optimal 'd'\n",
        "                      start_p=0, start_q=0, # minimum p and q\n",
        "                      max_p=5, max_q=5, # maximum p and q\n",
        "                      D=None,             # let model determine 'D'\n",
        "                      trace=True,\n",
        "                      error_action='ignore',\n",
        "                      suppress_warnings=True,\n",
        "                      stepwise=True)\n",
        "\n",
        "# print model summary\n",
        "print(model.summary())"
      ],
      "metadata": {
        "colab": {
          "base_uri": "https://localhost:8080/"
        },
        "id": "jmWy7zuPxjGL",
        "outputId": "ebc2dbdb-272f-426a-9ba1-5f5de3ca9909"
      },
      "execution_count": null,
      "outputs": [
        {
          "output_type": "stream",
          "name": "stdout",
          "text": [
            "Performing stepwise search to minimize aic\n",
            " ARIMA(0,0,0)(0,0,0)[0] intercept   : AIC=3106.682, Time=0.07 sec\n",
            " ARIMA(1,0,0)(0,0,0)[0] intercept   : AIC=2527.511, Time=0.24 sec\n",
            " ARIMA(0,0,1)(0,0,0)[0] intercept   : AIC=2872.291, Time=0.28 sec\n",
            " ARIMA(0,0,0)(0,0,0)[0]             : AIC=4514.094, Time=0.02 sec\n",
            " ARIMA(2,0,0)(0,0,0)[0] intercept   : AIC=2527.409, Time=1.74 sec\n",
            " ARIMA(3,0,0)(0,0,0)[0] intercept   : AIC=2520.533, Time=6.47 sec\n",
            " ARIMA(4,0,0)(0,0,0)[0] intercept   : AIC=2516.528, Time=1.63 sec\n",
            " ARIMA(5,0,0)(0,0,0)[0] intercept   : AIC=2518.505, Time=4.54 sec\n",
            " ARIMA(4,0,1)(0,0,0)[0] intercept   : AIC=2518.260, Time=8.46 sec\n",
            " ARIMA(3,0,1)(0,0,0)[0] intercept   : AIC=2516.742, Time=7.34 sec\n",
            " ARIMA(5,0,1)(0,0,0)[0] intercept   : AIC=2520.198, Time=12.70 sec\n",
            " ARIMA(4,0,0)(0,0,0)[0]             : AIC=inf, Time=8.86 sec\n",
            "\n",
            "Best model:  ARIMA(4,0,0)(0,0,0)[0] intercept\n",
            "Total fit time: 52.414 seconds\n",
            "                               SARIMAX Results                                \n",
            "==============================================================================\n",
            "Dep. Variable:                      y   No. Observations:                  252\n",
            "Model:               SARIMAX(4, 0, 0)   Log Likelihood               -1252.264\n",
            "Date:                Mon, 02 Dec 2024   AIC                           2516.528\n",
            "Time:                        04:58:37   BIC                           2537.704\n",
            "Sample:                             0   HQIC                          2525.049\n",
            "                                - 252                                         \n",
            "Covariance Type:                  opg                                         \n",
            "==============================================================================\n",
            "                 coef    std err          z      P>|z|      [0.025      0.975]\n",
            "------------------------------------------------------------------------------\n",
            "intercept     44.8028     38.069      1.177      0.239     -29.812     119.418\n",
            "ar.L1          0.8880      0.042     21.009      0.000       0.805       0.971\n",
            "ar.L2          0.2978      0.062      4.835      0.000       0.177       0.419\n",
            "ar.L3         -0.0509      0.051     -0.998      0.318      -0.151       0.049\n",
            "ar.L4         -0.1582      0.048     -3.276      0.001      -0.253      -0.064\n",
            "sigma2      1195.5107     68.682     17.407      0.000    1060.897    1330.124\n",
            "===================================================================================\n",
            "Ljung-Box (L1) (Q):                   0.00   Jarque-Bera (JB):               130.27\n",
            "Prob(Q):                              0.99   Prob(JB):                         0.00\n",
            "Heteroskedasticity (H):               3.09   Skew:                             0.33\n",
            "Prob(H) (two-sided):                  0.00   Kurtosis:                         6.46\n",
            "===================================================================================\n",
            "\n",
            "Warnings:\n",
            "[1] Covariance matrix calculated using the outer product of gradients (complex-step).\n"
          ]
        }
      ]
    },
    {
      "cell_type": "code",
      "source": [
        "#daily-min-temperatures.csv\n",
        "#autoarima 모델링\n",
        "data = pd.read_csv(\"daily-min-temperatures.csv\")\n",
        "data_actual = data.Temp[0:3600]\n",
        "data_predict = data.Temp[3600:]\n",
        "\n",
        "# use pmdarima to automatically select best ARIMA model\n",
        "model = pm.auto_arima(data_actual,\n",
        "                      d=0,             # let model determine 'd'\n",
        "                      test='adf',         # use adftest to find optimal 'd'\n",
        "                      start_p=0, start_q=0, # minimum p and q\n",
        "                      max_p=5, max_q=5, # maximum p and q\n",
        "                      D=None,             # let model determine 'D'\n",
        "                      trace=True,\n",
        "                      error_action='ignore',\n",
        "                      suppress_warnings=True,\n",
        "                      stepwise=True)\n",
        "# print model summary\n",
        "print(model.summary())"
      ],
      "metadata": {
        "colab": {
          "base_uri": "https://localhost:8080/"
        },
        "id": "CuVqIvrZx3Yj",
        "outputId": "4b93d664-907c-4cc2-abdb-7c4579f1a1ba"
      },
      "execution_count": null,
      "outputs": [
        {
          "output_type": "stream",
          "name": "stdout",
          "text": [
            "Performing stepwise search to minimize aic\n",
            " ARIMA(0,0,0)(0,0,0)[0] intercept   : AIC=20342.390, Time=0.08 sec\n",
            " ARIMA(1,0,0)(0,0,0)[0] intercept   : AIC=17041.607, Time=0.45 sec\n",
            " ARIMA(0,0,1)(0,0,0)[0] intercept   : AIC=18312.895, Time=1.59 sec\n",
            " ARIMA(0,0,0)(0,0,0)[0]             : AIC=28030.284, Time=0.14 sec\n",
            " ARIMA(2,0,0)(0,0,0)[0] intercept   : AIC=17022.640, Time=3.34 sec\n",
            " ARIMA(3,0,0)(0,0,0)[0] intercept   : AIC=16890.667, Time=3.85 sec\n",
            " ARIMA(4,0,0)(0,0,0)[0] intercept   : AIC=16807.032, Time=5.24 sec\n",
            " ARIMA(5,0,0)(0,0,0)[0] intercept   : AIC=16747.049, Time=8.28 sec\n",
            " ARIMA(5,0,1)(0,0,0)[0] intercept   : AIC=16560.562, Time=15.45 sec\n",
            " ARIMA(4,0,1)(0,0,0)[0] intercept   : AIC=16558.643, Time=9.43 sec\n",
            " ARIMA(3,0,1)(0,0,0)[0] intercept   : AIC=16556.654, Time=16.82 sec\n",
            " ARIMA(2,0,1)(0,0,0)[0] intercept   : AIC=16611.457, Time=6.62 sec\n",
            " ARIMA(3,0,2)(0,0,0)[0] intercept   : AIC=16558.644, Time=13.84 sec\n",
            " ARIMA(2,0,2)(0,0,0)[0] intercept   : AIC=16560.666, Time=9.83 sec\n",
            " ARIMA(4,0,2)(0,0,0)[0] intercept   : AIC=16560.564, Time=5.71 sec\n",
            " ARIMA(3,0,1)(0,0,0)[0]             : AIC=16569.304, Time=1.91 sec\n",
            "\n",
            "Best model:  ARIMA(3,0,1)(0,0,0)[0] intercept\n",
            "Total fit time: 102.623 seconds\n",
            "                               SARIMAX Results                                \n",
            "==============================================================================\n",
            "Dep. Variable:                      y   No. Observations:                 3600\n",
            "Model:               SARIMAX(3, 0, 1)   Log Likelihood               -8272.327\n",
            "Date:                Mon, 02 Dec 2024   AIC                          16556.654\n",
            "Time:                        05:26:39   BIC                          16593.786\n",
            "Sample:                             0   HQIC                         16569.887\n",
            "                               - 3600                                         \n",
            "Covariance Type:                  opg                                         \n",
            "==============================================================================\n",
            "                 coef    std err          z      P>|z|      [0.025      0.975]\n",
            "------------------------------------------------------------------------------\n",
            "intercept      0.0566      0.018      3.115      0.002       0.021       0.092\n",
            "ar.L1          1.4841      0.019     79.752      0.000       1.448       1.521\n",
            "ar.L2         -0.6219      0.027    -23.310      0.000      -0.674      -0.570\n",
            "ar.L3          0.1329      0.018      7.480      0.000       0.098       0.168\n",
            "ma.L1         -0.8919      0.012    -75.251      0.000      -0.915      -0.869\n",
            "sigma2         5.7962      0.129     45.026      0.000       5.544       6.048\n",
            "===================================================================================\n",
            "Ljung-Box (L1) (Q):                   0.01   Jarque-Bera (JB):                16.32\n",
            "Prob(Q):                              0.94   Prob(JB):                         0.00\n",
            "Heteroskedasticity (H):               0.86   Skew:                             0.08\n",
            "Prob(H) (two-sided):                  0.01   Kurtosis:                         3.28\n",
            "===================================================================================\n",
            "\n",
            "Warnings:\n",
            "[1] Covariance matrix calculated using the outer product of gradients (complex-step).\n"
          ]
        }
      ]
    },
    {
      "cell_type": "code",
      "source": [
        "pred = model.predict(n_periods=20)\n",
        "#print(pred, data_predict[0:20])\n",
        "root_mean_squared_error( pred, data_predict[0:20]   )"
      ],
      "metadata": {
        "colab": {
          "base_uri": "https://localhost:8080/"
        },
        "id": "OrGsvM0i1BlJ",
        "outputId": "6337fcbf-9080-4ea7-d2ff-b9d7c5d34f07"
      },
      "execution_count": null,
      "outputs": [
        {
          "output_type": "execute_result",
          "data": {
            "text/plain": [
              "2.149534005283384"
            ]
          },
          "metadata": {},
          "execution_count": 79
        }
      ]
    },
    {
      "cell_type": "code",
      "source": [
        "X,y = make_sequence( data_actual, 5)\n",
        "print(X.shape, y.shape)\n",
        "from sklearn.neural_network import MLPRegressor\n",
        "ml = MLPRegressor()\n",
        "ml.fit(X, y)"
      ],
      "metadata": {
        "id": "irTJSPkQ2E_J"
      },
      "execution_count": null,
      "outputs": []
    },
    {
      "cell_type": "code",
      "source": [
        "X_test, y_test = make_sequence( data_predict.values, 5)\n",
        "y_pred = ml.predict(X_test)\n",
        "#print(y_pred, y_test)\n",
        "root_mean_squared_error( y_pred[0:20], y_test[0:20])"
      ],
      "metadata": {
        "colab": {
          "base_uri": "https://localhost:8080/"
        },
        "id": "yfjI1krp2fLu",
        "outputId": "56b77d0f-fdca-457d-d316-87ed358b6988"
      },
      "execution_count": null,
      "outputs": [
        {
          "output_type": "execute_result",
          "data": {
            "text/plain": [
              "2.7183915354764374"
            ]
          },
          "metadata": {},
          "execution_count": 81
        }
      ]
    }
  ]
}