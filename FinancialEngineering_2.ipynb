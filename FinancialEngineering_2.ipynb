{
  "nbformat": 4,
  "nbformat_minor": 0,
  "metadata": {
    "colab": {
      "provenance": [],
      "authorship_tag": "ABX9TyMG0cPtTYDARcF7/DQLLV3v",
      "include_colab_link": true
    },
    "kernelspec": {
      "name": "python3",
      "display_name": "Python 3"
    },
    "language_info": {
      "name": "python"
    }
  },
  "cells": [
    {
      "cell_type": "markdown",
      "metadata": {
        "id": "view-in-github",
        "colab_type": "text"
      },
      "source": [
        "<a href=\"https://colab.research.google.com/github/leejihyeon240/ShinhanDSAcademy/blob/main/FinancialEngineering_2.ipynb\" target=\"_parent\"><img src=\"https://colab.research.google.com/assets/colab-badge.svg\" alt=\"Open In Colab\"/></a>"
      ]
    },
    {
      "cell_type": "code",
      "execution_count": 3,
      "metadata": {
        "colab": {
          "base_uri": "https://localhost:8080/"
        },
        "id": "D6BZgsd6V1b9",
        "outputId": "905dc4e3-a1c5-4945-f858-6b4f5e122b5c"
      },
      "outputs": [
        {
          "output_type": "execute_result",
          "data": {
            "text/plain": [
              "(200, 5)"
            ]
          },
          "metadata": {},
          "execution_count": 3
        }
      ],
      "source": [
        "# adv.csv --> df1\n",
        "# sales가 y\n",
        "# tv, radio, 신문x\n",
        "# tv X\n",
        "# .shape\n",
        "\n",
        "import pandas as pd\n",
        "df1 = pd.read_csv(\"adv.csv\")\n",
        "df1.sales.shape\n",
        "df1.shape"
      ]
    },
    {
      "cell_type": "code",
      "source": [
        "df1.TV.shape"
      ],
      "metadata": {
        "colab": {
          "base_uri": "https://localhost:8080/"
        },
        "id": "x1pj3hyJerac",
        "outputId": "abe7f8b8-c1d9-4f48-e09e-3c97df8d72f5"
      },
      "execution_count": 4,
      "outputs": [
        {
          "output_type": "execute_result",
          "data": {
            "text/plain": [
              "(200,)"
            ]
          },
          "metadata": {},
          "execution_count": 4
        }
      ]
    },
    {
      "cell_type": "code",
      "source": [
        "df1[[\"TV\"]].shape"
      ],
      "metadata": {
        "colab": {
          "base_uri": "https://localhost:8080/"
        },
        "id": "gaxJNMR2e3Wr",
        "outputId": "c05aa1e1-b694-4535-b7aa-88e947364ec9"
      },
      "execution_count": null,
      "outputs": [
        {
          "output_type": "execute_result",
          "data": {
            "text/plain": [
              "(200, 1)"
            ]
          },
          "metadata": {},
          "execution_count": 3
        }
      ]
    },
    {
      "cell_type": "code",
      "source": [
        "from sklearn.linear_model import LinearRegression\n",
        "\n",
        "model = LinearRegression()\n",
        "model.fit(df1[[\"TV\"]][0:180], df1.sales[0:180])\n",
        "# print(model.coef_, model.intercept_)\n",
        "\n",
        "print(model.predict(df1[[\"TV\"]][180:]))\n",
        "print(df1.sales[180:])\n"
      ],
      "metadata": {
        "colab": {
          "base_uri": "https://localhost:8080/"
        },
        "id": "Td0p-A-7jmWk",
        "outputId": "d398ad54-602c-4cb3-9184-71721c1a9841"
      },
      "execution_count": 5,
      "outputs": [
        {
          "output_type": "stream",
          "name": "stdout",
          "text": [
            "[14.50842759 17.41112285  9.80034028 20.65144986 19.06645633 16.7780633\n",
            " 13.70655216 16.12624643 20.57642058  8.04184154  9.01722218 10.70538097\n",
            "  7.97150159 14.98673924 14.18486382  8.95626089 11.58228568 15.4650509\n",
            " 20.46387667 18.04887172]\n",
            "180    10.5\n",
            "181    12.2\n",
            "182     8.7\n",
            "183    26.2\n",
            "184    17.6\n",
            "185    22.6\n",
            "186    10.3\n",
            "187    17.3\n",
            "188    15.9\n",
            "189     6.7\n",
            "190    10.8\n",
            "191     9.9\n",
            "192     5.9\n",
            "193    19.6\n",
            "194    17.3\n",
            "195     7.6\n",
            "196     9.7\n",
            "197    12.8\n",
            "198    25.5\n",
            "199    13.4\n",
            "Name: sales, dtype: float64\n"
          ]
        }
      ]
    },
    {
      "cell_type": "code",
      "source": [
        "from sklearn.linear_model import LinearRegression\n",
        "from sklearn.model_selection import train_test_split\n",
        "\n",
        "train, test = train_test_split(df1, train_size=0.9)\n",
        "\n",
        "model = LinearRegression()\n",
        "model.fit(train[[\"TV\"]], train.sales)\n",
        "# print(model.coef_, model.intercept_)\n",
        "\n",
        "# 결과는 랜덤하게 하기 때문에 숫자가 다를 수 있음\n",
        "# print(model.predict(test[[\"TV\"]]))\n",
        "# print(test.sales)\n",
        "\n",
        "pred = model.predict(test[[\"TV\"]])\n",
        "\n",
        "from sklearn.metrics import root_mean_squared_error\n",
        "root_mean_squared_error(test.sales, pred) #RMSE\n",
        "\n",
        "((pred - test.sales)**2).mean() #MSE"
      ],
      "metadata": {
        "colab": {
          "base_uri": "https://localhost:8080/"
        },
        "id": "O-cPps5skrsE",
        "outputId": "1fa147ea-7567-46c9-a616-9446a3b8b65c"
      },
      "execution_count": 7,
      "outputs": [
        {
          "output_type": "execute_result",
          "data": {
            "text/plain": [
              "13.438341516914372"
            ]
          },
          "metadata": {},
          "execution_count": 7
        }
      ]
    },
    {
      "cell_type": "code",
      "source": [
        "# 다른 것들 응용하기 좋은 버전\n",
        "\n",
        "from sklearn.linear_model import LinearRegression\n",
        "from sklearn.model_selection import train_test_split\n",
        "\n",
        "X_train, X_test, y_train, y_test = train_test_split(df1[[\"TV\", \"radio\"]], df1.sales, train_size=0.7)\n",
        "\n",
        "model = LinearRegression()\n",
        "model.fit(X_train, y_train)\n",
        "# print(model.coef_, model.intercept_)\n",
        "\n",
        "# 결과는 랜덤하게 하기 때문에 숫자가 다를 수 있음\n",
        "# print(model.predict(test[[\"TV\"]]))\n",
        "# print(test.sales)\n",
        "\n",
        "pred = model.predict(X_test)\n",
        "\n",
        "from sklearn.metrics import root_mean_squared_error\n",
        "root_mean_squared_error(y_test, pred) #RMSE\n"
      ],
      "metadata": {
        "colab": {
          "base_uri": "https://localhost:8080/"
        },
        "id": "rtnwSCK1nCBj",
        "outputId": "73084f63-d622-4054-d980-3d73890aeecd"
      },
      "execution_count": 6,
      "outputs": [
        {
          "output_type": "execute_result",
          "data": {
            "text/plain": [
              "1.760956415881474"
            ]
          },
          "metadata": {},
          "execution_count": 6
        }
      ]
    }
  ]
}